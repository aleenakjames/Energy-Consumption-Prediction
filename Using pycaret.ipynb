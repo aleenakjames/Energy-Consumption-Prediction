{
 "cells": [
  {
   "cell_type": "code",
   "execution_count": 19,
   "id": "fa6f01e0",
   "metadata": {},
   "outputs": [
    {
     "data": {
      "text/html": [
       "<div>\n",
       "<style scoped>\n",
       "    .dataframe tbody tr th:only-of-type {\n",
       "        vertical-align: middle;\n",
       "    }\n",
       "\n",
       "    .dataframe tbody tr th {\n",
       "        vertical-align: top;\n",
       "    }\n",
       "\n",
       "    .dataframe thead th {\n",
       "        text-align: right;\n",
       "    }\n",
       "</style>\n",
       "<table border=\"1\" class=\"dataframe\">\n",
       "  <thead>\n",
       "    <tr style=\"text-align: right;\">\n",
       "      <th></th>\n",
       "      <th>Fridge [kW]</th>\n",
       "      <th>Living room [kW]</th>\n",
       "      <th>windSpeed</th>\n",
       "      <th>Microwave [kW]</th>\n",
       "      <th>precipIntensity</th>\n",
       "      <th>Home office [kW]</th>\n",
       "      <th>temperature</th>\n",
       "      <th>humidity</th>\n",
       "      <th>Solar [kW]</th>\n",
       "      <th>Scaled Row Sums</th>\n",
       "    </tr>\n",
       "  </thead>\n",
       "  <tbody>\n",
       "    <tr>\n",
       "      <th>0</th>\n",
       "      <td>0.124150</td>\n",
       "      <td>0.001517</td>\n",
       "      <td>9.18</td>\n",
       "      <td>0.004067</td>\n",
       "      <td>0.00</td>\n",
       "      <td>0.442633</td>\n",
       "      <td>36.14</td>\n",
       "      <td>0.62</td>\n",
       "      <td>0.003483</td>\n",
       "      <td>0.416552</td>\n",
       "    </tr>\n",
       "    <tr>\n",
       "      <th>1</th>\n",
       "      <td>0.124000</td>\n",
       "      <td>0.001650</td>\n",
       "      <td>9.18</td>\n",
       "      <td>0.004067</td>\n",
       "      <td>0.00</td>\n",
       "      <td>0.444067</td>\n",
       "      <td>36.14</td>\n",
       "      <td>0.62</td>\n",
       "      <td>0.003467</td>\n",
       "      <td>0.416613</td>\n",
       "    </tr>\n",
       "    <tr>\n",
       "      <th>2</th>\n",
       "      <td>0.123533</td>\n",
       "      <td>0.001650</td>\n",
       "      <td>9.18</td>\n",
       "      <td>0.004067</td>\n",
       "      <td>0.00</td>\n",
       "      <td>0.446067</td>\n",
       "      <td>36.14</td>\n",
       "      <td>0.62</td>\n",
       "      <td>0.003467</td>\n",
       "      <td>0.416678</td>\n",
       "    </tr>\n",
       "    <tr>\n",
       "      <th>3</th>\n",
       "      <td>0.123133</td>\n",
       "      <td>0.001617</td>\n",
       "      <td>9.18</td>\n",
       "      <td>0.004067</td>\n",
       "      <td>0.00</td>\n",
       "      <td>0.446583</td>\n",
       "      <td>36.14</td>\n",
       "      <td>0.62</td>\n",
       "      <td>0.003483</td>\n",
       "      <td>0.416682</td>\n",
       "    </tr>\n",
       "    <tr>\n",
       "      <th>4</th>\n",
       "      <td>0.122850</td>\n",
       "      <td>0.001583</td>\n",
       "      <td>9.18</td>\n",
       "      <td>0.004067</td>\n",
       "      <td>0.00</td>\n",
       "      <td>0.446533</td>\n",
       "      <td>36.14</td>\n",
       "      <td>0.62</td>\n",
       "      <td>0.003467</td>\n",
       "      <td>0.416666</td>\n",
       "    </tr>\n",
       "    <tr>\n",
       "      <th>...</th>\n",
       "      <td>...</td>\n",
       "      <td>...</td>\n",
       "      <td>...</td>\n",
       "      <td>...</td>\n",
       "      <td>...</td>\n",
       "      <td>...</td>\n",
       "      <td>...</td>\n",
       "      <td>...</td>\n",
       "      <td>...</td>\n",
       "      <td>...</td>\n",
       "    </tr>\n",
       "    <tr>\n",
       "      <th>503955</th>\n",
       "      <td>0.287540</td>\n",
       "      <td>0.001387</td>\n",
       "      <td>8.70</td>\n",
       "      <td>0.769200</td>\n",
       "      <td>0.44</td>\n",
       "      <td>0.904800</td>\n",
       "      <td>30.00</td>\n",
       "      <td>0.74</td>\n",
       "      <td>0.003330</td>\n",
       "      <td>0.422797</td>\n",
       "    </tr>\n",
       "    <tr>\n",
       "      <th>503956</th>\n",
       "      <td>0.208970</td>\n",
       "      <td>0.002842</td>\n",
       "      <td>8.70</td>\n",
       "      <td>0.384600</td>\n",
       "      <td>0.44</td>\n",
       "      <td>0.349200</td>\n",
       "      <td>30.00</td>\n",
       "      <td>0.74</td>\n",
       "      <td>0.003210</td>\n",
       "      <td>0.395625</td>\n",
       "    </tr>\n",
       "    <tr>\n",
       "      <th>503957</th>\n",
       "      <td>0.117820</td>\n",
       "      <td>0.001512</td>\n",
       "      <td>8.70</td>\n",
       "      <td>0.615400</td>\n",
       "      <td>0.44</td>\n",
       "      <td>0.857100</td>\n",
       "      <td>30.00</td>\n",
       "      <td>0.74</td>\n",
       "      <td>0.003330</td>\n",
       "      <td>0.413465</td>\n",
       "    </tr>\n",
       "    <tr>\n",
       "      <th>503958</th>\n",
       "      <td>0.266390</td>\n",
       "      <td>0.003047</td>\n",
       "      <td>8.70</td>\n",
       "      <td>0.461500</td>\n",
       "      <td>0.44</td>\n",
       "      <td>0.158700</td>\n",
       "      <td>30.00</td>\n",
       "      <td>0.74</td>\n",
       "      <td>0.003210</td>\n",
       "      <td>0.389919</td>\n",
       "    </tr>\n",
       "    <tr>\n",
       "      <th>503959</th>\n",
       "      <td>0.175480</td>\n",
       "      <td>0.001675</td>\n",
       "      <td>8.70</td>\n",
       "      <td>0.692300</td>\n",
       "      <td>0.44</td>\n",
       "      <td>0.682500</td>\n",
       "      <td>30.00</td>\n",
       "      <td>0.74</td>\n",
       "      <td>0.000000</td>\n",
       "      <td>0.408450</td>\n",
       "    </tr>\n",
       "  </tbody>\n",
       "</table>\n",
       "<p>503960 rows × 10 columns</p>\n",
       "</div>"
      ],
      "text/plain": [
       "        Fridge [kW]  Living room [kW]  windSpeed  Microwave [kW]  \\\n",
       "0          0.124150          0.001517       9.18        0.004067   \n",
       "1          0.124000          0.001650       9.18        0.004067   \n",
       "2          0.123533          0.001650       9.18        0.004067   \n",
       "3          0.123133          0.001617       9.18        0.004067   \n",
       "4          0.122850          0.001583       9.18        0.004067   \n",
       "...             ...               ...        ...             ...   \n",
       "503955     0.287540          0.001387       8.70        0.769200   \n",
       "503956     0.208970          0.002842       8.70        0.384600   \n",
       "503957     0.117820          0.001512       8.70        0.615400   \n",
       "503958     0.266390          0.003047       8.70        0.461500   \n",
       "503959     0.175480          0.001675       8.70        0.692300   \n",
       "\n",
       "        precipIntensity  Home office [kW]  temperature  humidity  Solar [kW]  \\\n",
       "0                  0.00          0.442633        36.14      0.62    0.003483   \n",
       "1                  0.00          0.444067        36.14      0.62    0.003467   \n",
       "2                  0.00          0.446067        36.14      0.62    0.003467   \n",
       "3                  0.00          0.446583        36.14      0.62    0.003483   \n",
       "4                  0.00          0.446533        36.14      0.62    0.003467   \n",
       "...                 ...               ...          ...       ...         ...   \n",
       "503955             0.44          0.904800        30.00      0.74    0.003330   \n",
       "503956             0.44          0.349200        30.00      0.74    0.003210   \n",
       "503957             0.44          0.857100        30.00      0.74    0.003330   \n",
       "503958             0.44          0.158700        30.00      0.74    0.003210   \n",
       "503959             0.44          0.682500        30.00      0.74    0.000000   \n",
       "\n",
       "        Scaled Row Sums  \n",
       "0              0.416552  \n",
       "1              0.416613  \n",
       "2              0.416678  \n",
       "3              0.416682  \n",
       "4              0.416666  \n",
       "...                 ...  \n",
       "503955         0.422797  \n",
       "503956         0.395625  \n",
       "503957         0.413465  \n",
       "503958         0.389919  \n",
       "503959         0.408450  \n",
       "\n",
       "[503960 rows x 10 columns]"
      ]
     },
     "execution_count": 19,
     "metadata": {},
     "output_type": "execute_result"
    }
   ],
   "source": [
    "from pycaret.regression import *\n",
    "import pandas as pd\n",
    "df = pd.read_csv(\"combined_data_with_sums.csv\")\n",
    "df = df.dropna(axis=1)\n",
    "df"
   ]
  },
  {
   "cell_type": "code",
   "execution_count": 2,
   "id": "6bf9c12f",
   "metadata": {},
   "outputs": [],
   "source": [
    "x = df.iloc[:, 9]\n",
    "x = x.values.reshape(-1, 1)\n",
    "y = df.iloc[:, [col for col in range(len(df.columns)) if col != 9]]"
   ]
  },
  {
   "cell_type": "code",
   "execution_count": 3,
   "id": "76ea92c8",
   "metadata": {},
   "outputs": [
    {
     "data": {
      "text/html": [
       "<style type=\"text/css\">\n",
       "#T_f7a00_row8_col1 {\n",
       "  background-color: lightgreen;\n",
       "}\n",
       "</style>\n",
       "<table id=\"T_f7a00\">\n",
       "  <thead>\n",
       "    <tr>\n",
       "      <th class=\"blank level0\" >&nbsp;</th>\n",
       "      <th id=\"T_f7a00_level0_col0\" class=\"col_heading level0 col0\" >Description</th>\n",
       "      <th id=\"T_f7a00_level0_col1\" class=\"col_heading level0 col1\" >Value</th>\n",
       "    </tr>\n",
       "  </thead>\n",
       "  <tbody>\n",
       "    <tr>\n",
       "      <th id=\"T_f7a00_level0_row0\" class=\"row_heading level0 row0\" >0</th>\n",
       "      <td id=\"T_f7a00_row0_col0\" class=\"data row0 col0\" >Session id</td>\n",
       "      <td id=\"T_f7a00_row0_col1\" class=\"data row0 col1\" >1496</td>\n",
       "    </tr>\n",
       "    <tr>\n",
       "      <th id=\"T_f7a00_level0_row1\" class=\"row_heading level0 row1\" >1</th>\n",
       "      <td id=\"T_f7a00_row1_col0\" class=\"data row1 col0\" >Target</td>\n",
       "      <td id=\"T_f7a00_row1_col1\" class=\"data row1 col1\" >Scaled Row Sums</td>\n",
       "    </tr>\n",
       "    <tr>\n",
       "      <th id=\"T_f7a00_level0_row2\" class=\"row_heading level0 row2\" >2</th>\n",
       "      <td id=\"T_f7a00_row2_col0\" class=\"data row2 col0\" >Target type</td>\n",
       "      <td id=\"T_f7a00_row2_col1\" class=\"data row2 col1\" >Regression</td>\n",
       "    </tr>\n",
       "    <tr>\n",
       "      <th id=\"T_f7a00_level0_row3\" class=\"row_heading level0 row3\" >3</th>\n",
       "      <td id=\"T_f7a00_row3_col0\" class=\"data row3 col0\" >Original data shape</td>\n",
       "      <td id=\"T_f7a00_row3_col1\" class=\"data row3 col1\" >(503960, 10)</td>\n",
       "    </tr>\n",
       "    <tr>\n",
       "      <th id=\"T_f7a00_level0_row4\" class=\"row_heading level0 row4\" >4</th>\n",
       "      <td id=\"T_f7a00_row4_col0\" class=\"data row4 col0\" >Transformed data shape</td>\n",
       "      <td id=\"T_f7a00_row4_col1\" class=\"data row4 col1\" >(503960, 10)</td>\n",
       "    </tr>\n",
       "    <tr>\n",
       "      <th id=\"T_f7a00_level0_row5\" class=\"row_heading level0 row5\" >5</th>\n",
       "      <td id=\"T_f7a00_row5_col0\" class=\"data row5 col0\" >Transformed train set shape</td>\n",
       "      <td id=\"T_f7a00_row5_col1\" class=\"data row5 col1\" >(352772, 10)</td>\n",
       "    </tr>\n",
       "    <tr>\n",
       "      <th id=\"T_f7a00_level0_row6\" class=\"row_heading level0 row6\" >6</th>\n",
       "      <td id=\"T_f7a00_row6_col0\" class=\"data row6 col0\" >Transformed test set shape</td>\n",
       "      <td id=\"T_f7a00_row6_col1\" class=\"data row6 col1\" >(151188, 10)</td>\n",
       "    </tr>\n",
       "    <tr>\n",
       "      <th id=\"T_f7a00_level0_row7\" class=\"row_heading level0 row7\" >7</th>\n",
       "      <td id=\"T_f7a00_row7_col0\" class=\"data row7 col0\" >Numeric features</td>\n",
       "      <td id=\"T_f7a00_row7_col1\" class=\"data row7 col1\" >9</td>\n",
       "    </tr>\n",
       "    <tr>\n",
       "      <th id=\"T_f7a00_level0_row8\" class=\"row_heading level0 row8\" >8</th>\n",
       "      <td id=\"T_f7a00_row8_col0\" class=\"data row8 col0\" >Preprocess</td>\n",
       "      <td id=\"T_f7a00_row8_col1\" class=\"data row8 col1\" >True</td>\n",
       "    </tr>\n",
       "    <tr>\n",
       "      <th id=\"T_f7a00_level0_row9\" class=\"row_heading level0 row9\" >9</th>\n",
       "      <td id=\"T_f7a00_row9_col0\" class=\"data row9 col0\" >Imputation type</td>\n",
       "      <td id=\"T_f7a00_row9_col1\" class=\"data row9 col1\" >simple</td>\n",
       "    </tr>\n",
       "    <tr>\n",
       "      <th id=\"T_f7a00_level0_row10\" class=\"row_heading level0 row10\" >10</th>\n",
       "      <td id=\"T_f7a00_row10_col0\" class=\"data row10 col0\" >Numeric imputation</td>\n",
       "      <td id=\"T_f7a00_row10_col1\" class=\"data row10 col1\" >mean</td>\n",
       "    </tr>\n",
       "    <tr>\n",
       "      <th id=\"T_f7a00_level0_row11\" class=\"row_heading level0 row11\" >11</th>\n",
       "      <td id=\"T_f7a00_row11_col0\" class=\"data row11 col0\" >Categorical imputation</td>\n",
       "      <td id=\"T_f7a00_row11_col1\" class=\"data row11 col1\" >mode</td>\n",
       "    </tr>\n",
       "    <tr>\n",
       "      <th id=\"T_f7a00_level0_row12\" class=\"row_heading level0 row12\" >12</th>\n",
       "      <td id=\"T_f7a00_row12_col0\" class=\"data row12 col0\" >Fold Generator</td>\n",
       "      <td id=\"T_f7a00_row12_col1\" class=\"data row12 col1\" >KFold</td>\n",
       "    </tr>\n",
       "    <tr>\n",
       "      <th id=\"T_f7a00_level0_row13\" class=\"row_heading level0 row13\" >13</th>\n",
       "      <td id=\"T_f7a00_row13_col0\" class=\"data row13 col0\" >Fold Number</td>\n",
       "      <td id=\"T_f7a00_row13_col1\" class=\"data row13 col1\" >10</td>\n",
       "    </tr>\n",
       "    <tr>\n",
       "      <th id=\"T_f7a00_level0_row14\" class=\"row_heading level0 row14\" >14</th>\n",
       "      <td id=\"T_f7a00_row14_col0\" class=\"data row14 col0\" >CPU Jobs</td>\n",
       "      <td id=\"T_f7a00_row14_col1\" class=\"data row14 col1\" >-1</td>\n",
       "    </tr>\n",
       "    <tr>\n",
       "      <th id=\"T_f7a00_level0_row15\" class=\"row_heading level0 row15\" >15</th>\n",
       "      <td id=\"T_f7a00_row15_col0\" class=\"data row15 col0\" >Use GPU</td>\n",
       "      <td id=\"T_f7a00_row15_col1\" class=\"data row15 col1\" >False</td>\n",
       "    </tr>\n",
       "    <tr>\n",
       "      <th id=\"T_f7a00_level0_row16\" class=\"row_heading level0 row16\" >16</th>\n",
       "      <td id=\"T_f7a00_row16_col0\" class=\"data row16 col0\" >Log Experiment</td>\n",
       "      <td id=\"T_f7a00_row16_col1\" class=\"data row16 col1\" >False</td>\n",
       "    </tr>\n",
       "    <tr>\n",
       "      <th id=\"T_f7a00_level0_row17\" class=\"row_heading level0 row17\" >17</th>\n",
       "      <td id=\"T_f7a00_row17_col0\" class=\"data row17 col0\" >Experiment Name</td>\n",
       "      <td id=\"T_f7a00_row17_col1\" class=\"data row17 col1\" >reg-default-name</td>\n",
       "    </tr>\n",
       "    <tr>\n",
       "      <th id=\"T_f7a00_level0_row18\" class=\"row_heading level0 row18\" >18</th>\n",
       "      <td id=\"T_f7a00_row18_col0\" class=\"data row18 col0\" >USI</td>\n",
       "      <td id=\"T_f7a00_row18_col1\" class=\"data row18 col1\" >507e</td>\n",
       "    </tr>\n",
       "  </tbody>\n",
       "</table>\n"
      ],
      "text/plain": [
       "<pandas.io.formats.style.Styler at 0x20055ad51c0>"
      ]
     },
     "metadata": {},
     "output_type": "display_data"
    }
   ],
   "source": [
    "exp = setup(data=df, target='Scaled Row Sums')"
   ]
  },
  {
   "cell_type": "code",
   "execution_count": 4,
   "id": "4da32674",
   "metadata": {},
   "outputs": [
    {
     "data": {
      "text/html": [],
      "text/plain": [
       "<IPython.core.display.HTML object>"
      ]
     },
     "metadata": {},
     "output_type": "display_data"
    },
    {
     "data": {
      "text/html": [
       "<style type=\"text/css\">\n",
       "#T_817aa th {\n",
       "  text-align: left;\n",
       "}\n",
       "#T_817aa_row0_col0, #T_817aa_row1_col0, #T_817aa_row2_col0, #T_817aa_row3_col0, #T_817aa_row4_col0, #T_817aa_row4_col1, #T_817aa_row4_col3, #T_817aa_row4_col5, #T_817aa_row4_col6, #T_817aa_row5_col0, #T_817aa_row5_col1, #T_817aa_row5_col3, #T_817aa_row5_col5, #T_817aa_row5_col6, #T_817aa_row6_col0, #T_817aa_row6_col1, #T_817aa_row6_col3, #T_817aa_row6_col5, #T_817aa_row6_col6, #T_817aa_row7_col0, #T_817aa_row7_col1, #T_817aa_row7_col3, #T_817aa_row7_col4, #T_817aa_row7_col5, #T_817aa_row7_col6, #T_817aa_row8_col0, #T_817aa_row8_col1, #T_817aa_row8_col3, #T_817aa_row8_col4, #T_817aa_row8_col5, #T_817aa_row8_col6, #T_817aa_row9_col0, #T_817aa_row9_col1, #T_817aa_row9_col3, #T_817aa_row9_col4, #T_817aa_row9_col5, #T_817aa_row9_col6, #T_817aa_row10_col0, #T_817aa_row10_col1, #T_817aa_row10_col2, #T_817aa_row10_col3, #T_817aa_row10_col4, #T_817aa_row10_col5, #T_817aa_row10_col6, #T_817aa_row11_col0, #T_817aa_row11_col1, #T_817aa_row11_col2, #T_817aa_row11_col3, #T_817aa_row11_col4, #T_817aa_row11_col5, #T_817aa_row11_col6, #T_817aa_row12_col0, #T_817aa_row12_col1, #T_817aa_row12_col2, #T_817aa_row12_col3, #T_817aa_row12_col4, #T_817aa_row12_col5, #T_817aa_row12_col6, #T_817aa_row13_col0, #T_817aa_row13_col1, #T_817aa_row13_col2, #T_817aa_row13_col3, #T_817aa_row13_col4, #T_817aa_row13_col5, #T_817aa_row13_col6, #T_817aa_row14_col0, #T_817aa_row14_col1, #T_817aa_row14_col2, #T_817aa_row14_col3, #T_817aa_row14_col4, #T_817aa_row14_col5, #T_817aa_row14_col6, #T_817aa_row15_col0, #T_817aa_row15_col1, #T_817aa_row15_col2, #T_817aa_row15_col3, #T_817aa_row15_col4, #T_817aa_row15_col5, #T_817aa_row15_col6 {\n",
       "  text-align: left;\n",
       "}\n",
       "#T_817aa_row0_col1, #T_817aa_row0_col2, #T_817aa_row0_col3, #T_817aa_row0_col4, #T_817aa_row0_col5, #T_817aa_row0_col6, #T_817aa_row1_col1, #T_817aa_row1_col2, #T_817aa_row1_col3, #T_817aa_row1_col4, #T_817aa_row1_col5, #T_817aa_row1_col6, #T_817aa_row2_col1, #T_817aa_row2_col2, #T_817aa_row2_col3, #T_817aa_row2_col4, #T_817aa_row2_col5, #T_817aa_row2_col6, #T_817aa_row3_col1, #T_817aa_row3_col2, #T_817aa_row3_col3, #T_817aa_row3_col4, #T_817aa_row3_col5, #T_817aa_row3_col6, #T_817aa_row4_col2, #T_817aa_row4_col4, #T_817aa_row5_col2, #T_817aa_row5_col4, #T_817aa_row6_col2, #T_817aa_row6_col4, #T_817aa_row7_col2, #T_817aa_row8_col2, #T_817aa_row9_col2 {\n",
       "  text-align: left;\n",
       "  background-color: yellow;\n",
       "}\n",
       "#T_817aa_row0_col7, #T_817aa_row1_col7, #T_817aa_row2_col7, #T_817aa_row3_col7, #T_817aa_row4_col7, #T_817aa_row5_col7, #T_817aa_row6_col7, #T_817aa_row7_col7, #T_817aa_row8_col7, #T_817aa_row9_col7, #T_817aa_row10_col7, #T_817aa_row11_col7, #T_817aa_row13_col7, #T_817aa_row14_col7, #T_817aa_row15_col7 {\n",
       "  text-align: left;\n",
       "  background-color: lightgrey;\n",
       "}\n",
       "#T_817aa_row12_col7 {\n",
       "  text-align: left;\n",
       "  background-color: yellow;\n",
       "  background-color: lightgrey;\n",
       "}\n",
       "</style>\n",
       "<table id=\"T_817aa\">\n",
       "  <thead>\n",
       "    <tr>\n",
       "      <th class=\"blank level0\" >&nbsp;</th>\n",
       "      <th id=\"T_817aa_level0_col0\" class=\"col_heading level0 col0\" >Model</th>\n",
       "      <th id=\"T_817aa_level0_col1\" class=\"col_heading level0 col1\" >MAE</th>\n",
       "      <th id=\"T_817aa_level0_col2\" class=\"col_heading level0 col2\" >MSE</th>\n",
       "      <th id=\"T_817aa_level0_col3\" class=\"col_heading level0 col3\" >RMSE</th>\n",
       "      <th id=\"T_817aa_level0_col4\" class=\"col_heading level0 col4\" >R2</th>\n",
       "      <th id=\"T_817aa_level0_col5\" class=\"col_heading level0 col5\" >RMSLE</th>\n",
       "      <th id=\"T_817aa_level0_col6\" class=\"col_heading level0 col6\" >MAPE</th>\n",
       "      <th id=\"T_817aa_level0_col7\" class=\"col_heading level0 col7\" >TT (Sec)</th>\n",
       "    </tr>\n",
       "  </thead>\n",
       "  <tbody>\n",
       "    <tr>\n",
       "      <th id=\"T_817aa_level0_row0\" class=\"row_heading level0 row0\" >lr</th>\n",
       "      <td id=\"T_817aa_row0_col0\" class=\"data row0 col0\" >Linear Regression</td>\n",
       "      <td id=\"T_817aa_row0_col1\" class=\"data row0 col1\" >0.0000</td>\n",
       "      <td id=\"T_817aa_row0_col2\" class=\"data row0 col2\" >0.0000</td>\n",
       "      <td id=\"T_817aa_row0_col3\" class=\"data row0 col3\" >0.0000</td>\n",
       "      <td id=\"T_817aa_row0_col4\" class=\"data row0 col4\" >1.0000</td>\n",
       "      <td id=\"T_817aa_row0_col5\" class=\"data row0 col5\" >0.0000</td>\n",
       "      <td id=\"T_817aa_row0_col6\" class=\"data row0 col6\" >0.0000</td>\n",
       "      <td id=\"T_817aa_row0_col7\" class=\"data row0 col7\" >2.4500</td>\n",
       "    </tr>\n",
       "    <tr>\n",
       "      <th id=\"T_817aa_level0_row1\" class=\"row_heading level0 row1\" >ridge</th>\n",
       "      <td id=\"T_817aa_row1_col0\" class=\"data row1 col0\" >Ridge Regression</td>\n",
       "      <td id=\"T_817aa_row1_col1\" class=\"data row1 col1\" >0.0000</td>\n",
       "      <td id=\"T_817aa_row1_col2\" class=\"data row1 col2\" >0.0000</td>\n",
       "      <td id=\"T_817aa_row1_col3\" class=\"data row1 col3\" >0.0000</td>\n",
       "      <td id=\"T_817aa_row1_col4\" class=\"data row1 col4\" >1.0000</td>\n",
       "      <td id=\"T_817aa_row1_col5\" class=\"data row1 col5\" >0.0000</td>\n",
       "      <td id=\"T_817aa_row1_col6\" class=\"data row1 col6\" >0.0000</td>\n",
       "      <td id=\"T_817aa_row1_col7\" class=\"data row1 col7\" >0.3880</td>\n",
       "    </tr>\n",
       "    <tr>\n",
       "      <th id=\"T_817aa_level0_row2\" class=\"row_heading level0 row2\" >lar</th>\n",
       "      <td id=\"T_817aa_row2_col0\" class=\"data row2 col0\" >Least Angle Regression</td>\n",
       "      <td id=\"T_817aa_row2_col1\" class=\"data row2 col1\" >0.0000</td>\n",
       "      <td id=\"T_817aa_row2_col2\" class=\"data row2 col2\" >0.0000</td>\n",
       "      <td id=\"T_817aa_row2_col3\" class=\"data row2 col3\" >0.0000</td>\n",
       "      <td id=\"T_817aa_row2_col4\" class=\"data row2 col4\" >1.0000</td>\n",
       "      <td id=\"T_817aa_row2_col5\" class=\"data row2 col5\" >0.0000</td>\n",
       "      <td id=\"T_817aa_row2_col6\" class=\"data row2 col6\" >0.0000</td>\n",
       "      <td id=\"T_817aa_row2_col7\" class=\"data row2 col7\" >0.3710</td>\n",
       "    </tr>\n",
       "    <tr>\n",
       "      <th id=\"T_817aa_level0_row3\" class=\"row_heading level0 row3\" >br</th>\n",
       "      <td id=\"T_817aa_row3_col0\" class=\"data row3 col0\" >Bayesian Ridge</td>\n",
       "      <td id=\"T_817aa_row3_col1\" class=\"data row3 col1\" >0.0000</td>\n",
       "      <td id=\"T_817aa_row3_col2\" class=\"data row3 col2\" >0.0000</td>\n",
       "      <td id=\"T_817aa_row3_col3\" class=\"data row3 col3\" >0.0000</td>\n",
       "      <td id=\"T_817aa_row3_col4\" class=\"data row3 col4\" >1.0000</td>\n",
       "      <td id=\"T_817aa_row3_col5\" class=\"data row3 col5\" >0.0000</td>\n",
       "      <td id=\"T_817aa_row3_col6\" class=\"data row3 col6\" >0.0000</td>\n",
       "      <td id=\"T_817aa_row3_col7\" class=\"data row3 col7\" >0.5130</td>\n",
       "    </tr>\n",
       "    <tr>\n",
       "      <th id=\"T_817aa_level0_row4\" class=\"row_heading level0 row4\" >huber</th>\n",
       "      <td id=\"T_817aa_row4_col0\" class=\"data row4 col0\" >Huber Regressor</td>\n",
       "      <td id=\"T_817aa_row4_col1\" class=\"data row4 col1\" >0.0001</td>\n",
       "      <td id=\"T_817aa_row4_col2\" class=\"data row4 col2\" >0.0000</td>\n",
       "      <td id=\"T_817aa_row4_col3\" class=\"data row4 col3\" >0.0004</td>\n",
       "      <td id=\"T_817aa_row4_col4\" class=\"data row4 col4\" >1.0000</td>\n",
       "      <td id=\"T_817aa_row4_col5\" class=\"data row4 col5\" >0.0003</td>\n",
       "      <td id=\"T_817aa_row4_col6\" class=\"data row4 col6\" >0.0004</td>\n",
       "      <td id=\"T_817aa_row4_col7\" class=\"data row4 col7\" >7.8190</td>\n",
       "    </tr>\n",
       "    <tr>\n",
       "      <th id=\"T_817aa_level0_row5\" class=\"row_heading level0 row5\" >knn</th>\n",
       "      <td id=\"T_817aa_row5_col0\" class=\"data row5 col0\" >K Neighbors Regressor</td>\n",
       "      <td id=\"T_817aa_row5_col1\" class=\"data row5 col1\" >0.0003</td>\n",
       "      <td id=\"T_817aa_row5_col2\" class=\"data row5 col2\" >0.0000</td>\n",
       "      <td id=\"T_817aa_row5_col3\" class=\"data row5 col3\" >0.0011</td>\n",
       "      <td id=\"T_817aa_row5_col4\" class=\"data row5 col4\" >1.0000</td>\n",
       "      <td id=\"T_817aa_row5_col5\" class=\"data row5 col5\" >0.0008</td>\n",
       "      <td id=\"T_817aa_row5_col6\" class=\"data row5 col6\" >0.0014</td>\n",
       "      <td id=\"T_817aa_row5_col7\" class=\"data row5 col7\" >1.7490</td>\n",
       "    </tr>\n",
       "    <tr>\n",
       "      <th id=\"T_817aa_level0_row6\" class=\"row_heading level0 row6\" >dt</th>\n",
       "      <td id=\"T_817aa_row6_col0\" class=\"data row6 col0\" >Decision Tree Regressor</td>\n",
       "      <td id=\"T_817aa_row6_col1\" class=\"data row6 col1\" >0.0001</td>\n",
       "      <td id=\"T_817aa_row6_col2\" class=\"data row6 col2\" >0.0000</td>\n",
       "      <td id=\"T_817aa_row6_col3\" class=\"data row6 col3\" >0.0006</td>\n",
       "      <td id=\"T_817aa_row6_col4\" class=\"data row6 col4\" >1.0000</td>\n",
       "      <td id=\"T_817aa_row6_col5\" class=\"data row6 col5\" >0.0004</td>\n",
       "      <td id=\"T_817aa_row6_col6\" class=\"data row6 col6\" >0.0008</td>\n",
       "      <td id=\"T_817aa_row6_col7\" class=\"data row6 col7\" >2.3710</td>\n",
       "    </tr>\n",
       "    <tr>\n",
       "      <th id=\"T_817aa_level0_row7\" class=\"row_heading level0 row7\" >gbr</th>\n",
       "      <td id=\"T_817aa_row7_col0\" class=\"data row7 col0\" >Gradient Boosting Regressor</td>\n",
       "      <td id=\"T_817aa_row7_col1\" class=\"data row7 col1\" >0.0014</td>\n",
       "      <td id=\"T_817aa_row7_col2\" class=\"data row7 col2\" >0.0000</td>\n",
       "      <td id=\"T_817aa_row7_col3\" class=\"data row7 col3\" >0.0018</td>\n",
       "      <td id=\"T_817aa_row7_col4\" class=\"data row7 col4\" >0.9999</td>\n",
       "      <td id=\"T_817aa_row7_col5\" class=\"data row7 col5\" >0.0014</td>\n",
       "      <td id=\"T_817aa_row7_col6\" class=\"data row7 col6\" >0.0350</td>\n",
       "      <td id=\"T_817aa_row7_col7\" class=\"data row7 col7\" >42.3550</td>\n",
       "    </tr>\n",
       "    <tr>\n",
       "      <th id=\"T_817aa_level0_row8\" class=\"row_heading level0 row8\" >lightgbm</th>\n",
       "      <td id=\"T_817aa_row8_col0\" class=\"data row8 col0\" >Light Gradient Boosting Machine</td>\n",
       "      <td id=\"T_817aa_row8_col1\" class=\"data row8 col1\" >0.0010</td>\n",
       "      <td id=\"T_817aa_row8_col2\" class=\"data row8 col2\" >0.0000</td>\n",
       "      <td id=\"T_817aa_row8_col3\" class=\"data row8 col3\" >0.0014</td>\n",
       "      <td id=\"T_817aa_row8_col4\" class=\"data row8 col4\" >0.9999</td>\n",
       "      <td id=\"T_817aa_row8_col5\" class=\"data row8 col5\" >0.0010</td>\n",
       "      <td id=\"T_817aa_row8_col6\" class=\"data row8 col6\" >0.0158</td>\n",
       "      <td id=\"T_817aa_row8_col7\" class=\"data row8 col7\" >2.5770</td>\n",
       "    </tr>\n",
       "    <tr>\n",
       "      <th id=\"T_817aa_level0_row9\" class=\"row_heading level0 row9\" >omp</th>\n",
       "      <td id=\"T_817aa_row9_col0\" class=\"data row9 col0\" >Orthogonal Matching Pursuit</td>\n",
       "      <td id=\"T_817aa_row9_col1\" class=\"data row9 col1\" >0.0050</td>\n",
       "      <td id=\"T_817aa_row9_col2\" class=\"data row9 col2\" >0.0000</td>\n",
       "      <td id=\"T_817aa_row9_col3\" class=\"data row9 col3\" >0.0069</td>\n",
       "      <td id=\"T_817aa_row9_col4\" class=\"data row9 col4\" >0.9983</td>\n",
       "      <td id=\"T_817aa_row9_col5\" class=\"data row9 col5\" >0.0055</td>\n",
       "      <td id=\"T_817aa_row9_col6\" class=\"data row9 col6\" >0.0597</td>\n",
       "      <td id=\"T_817aa_row9_col7\" class=\"data row9 col7\" >0.3910</td>\n",
       "    </tr>\n",
       "    <tr>\n",
       "      <th id=\"T_817aa_level0_row10\" class=\"row_heading level0 row10\" >ada</th>\n",
       "      <td id=\"T_817aa_row10_col0\" class=\"data row10 col0\" >AdaBoost Regressor</td>\n",
       "      <td id=\"T_817aa_row10_col1\" class=\"data row10 col1\" >0.0077</td>\n",
       "      <td id=\"T_817aa_row10_col2\" class=\"data row10 col2\" >0.0001</td>\n",
       "      <td id=\"T_817aa_row10_col3\" class=\"data row10 col3\" >0.0098</td>\n",
       "      <td id=\"T_817aa_row10_col4\" class=\"data row10 col4\" >0.9967</td>\n",
       "      <td id=\"T_817aa_row10_col5\" class=\"data row10 col5\" >0.0079</td>\n",
       "      <td id=\"T_817aa_row10_col6\" class=\"data row10 col6\" >0.3238</td>\n",
       "      <td id=\"T_817aa_row10_col7\" class=\"data row10 col7\" >27.9010</td>\n",
       "    </tr>\n",
       "    <tr>\n",
       "      <th id=\"T_817aa_level0_row11\" class=\"row_heading level0 row11\" >par</th>\n",
       "      <td id=\"T_817aa_row11_col0\" class=\"data row11 col0\" >Passive Aggressive Regressor</td>\n",
       "      <td id=\"T_817aa_row11_col1\" class=\"data row11 col1\" >0.0347</td>\n",
       "      <td id=\"T_817aa_row11_col2\" class=\"data row11 col2\" >0.0017</td>\n",
       "      <td id=\"T_817aa_row11_col3\" class=\"data row11 col3\" >0.0413</td>\n",
       "      <td id=\"T_817aa_row11_col4\" class=\"data row11 col4\" >0.9415</td>\n",
       "      <td id=\"T_817aa_row11_col5\" class=\"data row11 col5\" >0.0335</td>\n",
       "      <td id=\"T_817aa_row11_col6\" class=\"data row11 col6\" >0.5485</td>\n",
       "      <td id=\"T_817aa_row11_col7\" class=\"data row11 col7\" >1.0120</td>\n",
       "    </tr>\n",
       "    <tr>\n",
       "      <th id=\"T_817aa_level0_row12\" class=\"row_heading level0 row12\" >en</th>\n",
       "      <td id=\"T_817aa_row12_col0\" class=\"data row12 col0\" >Elastic Net</td>\n",
       "      <td id=\"T_817aa_row12_col1\" class=\"data row12 col1\" >0.1008</td>\n",
       "      <td id=\"T_817aa_row12_col2\" class=\"data row12 col2\" >0.0162</td>\n",
       "      <td id=\"T_817aa_row12_col3\" class=\"data row12 col3\" >0.1272</td>\n",
       "      <td id=\"T_817aa_row12_col4\" class=\"data row12 col4\" >0.4462</td>\n",
       "      <td id=\"T_817aa_row12_col5\" class=\"data row12 col5\" >0.0942</td>\n",
       "      <td id=\"T_817aa_row12_col6\" class=\"data row12 col6\" >1.8321</td>\n",
       "      <td id=\"T_817aa_row12_col7\" class=\"data row12 col7\" >0.3280</td>\n",
       "    </tr>\n",
       "    <tr>\n",
       "      <th id=\"T_817aa_level0_row13\" class=\"row_heading level0 row13\" >lasso</th>\n",
       "      <td id=\"T_817aa_row13_col0\" class=\"data row13 col0\" >Lasso Regression</td>\n",
       "      <td id=\"T_817aa_row13_col1\" class=\"data row13 col1\" >0.1355</td>\n",
       "      <td id=\"T_817aa_row13_col2\" class=\"data row13 col2\" >0.0292</td>\n",
       "      <td id=\"T_817aa_row13_col3\" class=\"data row13 col3\" >0.1709</td>\n",
       "      <td id=\"T_817aa_row13_col4\" class=\"data row13 col4\" >-0.0000</td>\n",
       "      <td id=\"T_817aa_row13_col5\" class=\"data row13 col5\" >0.1275</td>\n",
       "      <td id=\"T_817aa_row13_col6\" class=\"data row13 col6\" >2.4511</td>\n",
       "      <td id=\"T_817aa_row13_col7\" class=\"data row13 col7\" >0.5530</td>\n",
       "    </tr>\n",
       "    <tr>\n",
       "      <th id=\"T_817aa_level0_row14\" class=\"row_heading level0 row14\" >llar</th>\n",
       "      <td id=\"T_817aa_row14_col0\" class=\"data row14 col0\" >Lasso Least Angle Regression</td>\n",
       "      <td id=\"T_817aa_row14_col1\" class=\"data row14 col1\" >0.1355</td>\n",
       "      <td id=\"T_817aa_row14_col2\" class=\"data row14 col2\" >0.0292</td>\n",
       "      <td id=\"T_817aa_row14_col3\" class=\"data row14 col3\" >0.1709</td>\n",
       "      <td id=\"T_817aa_row14_col4\" class=\"data row14 col4\" >-0.0000</td>\n",
       "      <td id=\"T_817aa_row14_col5\" class=\"data row14 col5\" >0.1275</td>\n",
       "      <td id=\"T_817aa_row14_col6\" class=\"data row14 col6\" >2.4511</td>\n",
       "      <td id=\"T_817aa_row14_col7\" class=\"data row14 col7\" >0.3740</td>\n",
       "    </tr>\n",
       "    <tr>\n",
       "      <th id=\"T_817aa_level0_row15\" class=\"row_heading level0 row15\" >dummy</th>\n",
       "      <td id=\"T_817aa_row15_col0\" class=\"data row15 col0\" >Dummy Regressor</td>\n",
       "      <td id=\"T_817aa_row15_col1\" class=\"data row15 col1\" >0.1355</td>\n",
       "      <td id=\"T_817aa_row15_col2\" class=\"data row15 col2\" >0.0292</td>\n",
       "      <td id=\"T_817aa_row15_col3\" class=\"data row15 col3\" >0.1709</td>\n",
       "      <td id=\"T_817aa_row15_col4\" class=\"data row15 col4\" >-0.0000</td>\n",
       "      <td id=\"T_817aa_row15_col5\" class=\"data row15 col5\" >0.1275</td>\n",
       "      <td id=\"T_817aa_row15_col6\" class=\"data row15 col6\" >2.4511</td>\n",
       "      <td id=\"T_817aa_row15_col7\" class=\"data row15 col7\" >0.3630</td>\n",
       "    </tr>\n",
       "  </tbody>\n",
       "</table>\n"
      ],
      "text/plain": [
       "<pandas.io.formats.style.Styler at 0x2003caff1c0>"
      ]
     },
     "metadata": {},
     "output_type": "display_data"
    },
    {
     "data": {
      "application/vnd.jupyter.widget-view+json": {
       "model_id": "",
       "version_major": 2,
       "version_minor": 0
      },
      "text/plain": [
       "Processing:   0%|          | 0/79 [00:00<?, ?it/s]"
      ]
     },
     "metadata": {},
     "output_type": "display_data"
    }
   ],
   "source": [
    "best_model = compare_models(n_select= 3)"
   ]
  },
  {
   "cell_type": "code",
   "execution_count": 5,
   "id": "84c5b30b",
   "metadata": {},
   "outputs": [
    {
     "data": {
      "text/html": [],
      "text/plain": [
       "<IPython.core.display.HTML object>"
      ]
     },
     "metadata": {},
     "output_type": "display_data"
    },
    {
     "data": {
      "text/html": [
       "<style type=\"text/css\">\n",
       "#T_0b607_row10_col0, #T_0b607_row10_col1, #T_0b607_row10_col2, #T_0b607_row10_col3, #T_0b607_row10_col4, #T_0b607_row10_col5 {\n",
       "  background: yellow;\n",
       "}\n",
       "</style>\n",
       "<table id=\"T_0b607\">\n",
       "  <thead>\n",
       "    <tr>\n",
       "      <th class=\"blank level0\" >&nbsp;</th>\n",
       "      <th id=\"T_0b607_level0_col0\" class=\"col_heading level0 col0\" >MAE</th>\n",
       "      <th id=\"T_0b607_level0_col1\" class=\"col_heading level0 col1\" >MSE</th>\n",
       "      <th id=\"T_0b607_level0_col2\" class=\"col_heading level0 col2\" >RMSE</th>\n",
       "      <th id=\"T_0b607_level0_col3\" class=\"col_heading level0 col3\" >R2</th>\n",
       "      <th id=\"T_0b607_level0_col4\" class=\"col_heading level0 col4\" >RMSLE</th>\n",
       "      <th id=\"T_0b607_level0_col5\" class=\"col_heading level0 col5\" >MAPE</th>\n",
       "    </tr>\n",
       "    <tr>\n",
       "      <th class=\"index_name level0\" >Fold</th>\n",
       "      <th class=\"blank col0\" >&nbsp;</th>\n",
       "      <th class=\"blank col1\" >&nbsp;</th>\n",
       "      <th class=\"blank col2\" >&nbsp;</th>\n",
       "      <th class=\"blank col3\" >&nbsp;</th>\n",
       "      <th class=\"blank col4\" >&nbsp;</th>\n",
       "      <th class=\"blank col5\" >&nbsp;</th>\n",
       "    </tr>\n",
       "  </thead>\n",
       "  <tbody>\n",
       "    <tr>\n",
       "      <th id=\"T_0b607_level0_row0\" class=\"row_heading level0 row0\" >0</th>\n",
       "      <td id=\"T_0b607_row0_col0\" class=\"data row0 col0\" >0.0000</td>\n",
       "      <td id=\"T_0b607_row0_col1\" class=\"data row0 col1\" >0.0000</td>\n",
       "      <td id=\"T_0b607_row0_col2\" class=\"data row0 col2\" >0.0000</td>\n",
       "      <td id=\"T_0b607_row0_col3\" class=\"data row0 col3\" >1.0000</td>\n",
       "      <td id=\"T_0b607_row0_col4\" class=\"data row0 col4\" >0.0000</td>\n",
       "      <td id=\"T_0b607_row0_col5\" class=\"data row0 col5\" >0.0000</td>\n",
       "    </tr>\n",
       "    <tr>\n",
       "      <th id=\"T_0b607_level0_row1\" class=\"row_heading level0 row1\" >1</th>\n",
       "      <td id=\"T_0b607_row1_col0\" class=\"data row1 col0\" >0.0000</td>\n",
       "      <td id=\"T_0b607_row1_col1\" class=\"data row1 col1\" >0.0000</td>\n",
       "      <td id=\"T_0b607_row1_col2\" class=\"data row1 col2\" >0.0000</td>\n",
       "      <td id=\"T_0b607_row1_col3\" class=\"data row1 col3\" >1.0000</td>\n",
       "      <td id=\"T_0b607_row1_col4\" class=\"data row1 col4\" >0.0000</td>\n",
       "      <td id=\"T_0b607_row1_col5\" class=\"data row1 col5\" >0.0000</td>\n",
       "    </tr>\n",
       "    <tr>\n",
       "      <th id=\"T_0b607_level0_row2\" class=\"row_heading level0 row2\" >2</th>\n",
       "      <td id=\"T_0b607_row2_col0\" class=\"data row2 col0\" >0.0000</td>\n",
       "      <td id=\"T_0b607_row2_col1\" class=\"data row2 col1\" >0.0000</td>\n",
       "      <td id=\"T_0b607_row2_col2\" class=\"data row2 col2\" >0.0000</td>\n",
       "      <td id=\"T_0b607_row2_col3\" class=\"data row2 col3\" >1.0000</td>\n",
       "      <td id=\"T_0b607_row2_col4\" class=\"data row2 col4\" >0.0000</td>\n",
       "      <td id=\"T_0b607_row2_col5\" class=\"data row2 col5\" >0.0000</td>\n",
       "    </tr>\n",
       "    <tr>\n",
       "      <th id=\"T_0b607_level0_row3\" class=\"row_heading level0 row3\" >3</th>\n",
       "      <td id=\"T_0b607_row3_col0\" class=\"data row3 col0\" >0.0000</td>\n",
       "      <td id=\"T_0b607_row3_col1\" class=\"data row3 col1\" >0.0000</td>\n",
       "      <td id=\"T_0b607_row3_col2\" class=\"data row3 col2\" >0.0000</td>\n",
       "      <td id=\"T_0b607_row3_col3\" class=\"data row3 col3\" >1.0000</td>\n",
       "      <td id=\"T_0b607_row3_col4\" class=\"data row3 col4\" >0.0000</td>\n",
       "      <td id=\"T_0b607_row3_col5\" class=\"data row3 col5\" >0.0000</td>\n",
       "    </tr>\n",
       "    <tr>\n",
       "      <th id=\"T_0b607_level0_row4\" class=\"row_heading level0 row4\" >4</th>\n",
       "      <td id=\"T_0b607_row4_col0\" class=\"data row4 col0\" >0.0000</td>\n",
       "      <td id=\"T_0b607_row4_col1\" class=\"data row4 col1\" >0.0000</td>\n",
       "      <td id=\"T_0b607_row4_col2\" class=\"data row4 col2\" >0.0000</td>\n",
       "      <td id=\"T_0b607_row4_col3\" class=\"data row4 col3\" >1.0000</td>\n",
       "      <td id=\"T_0b607_row4_col4\" class=\"data row4 col4\" >0.0000</td>\n",
       "      <td id=\"T_0b607_row4_col5\" class=\"data row4 col5\" >0.0000</td>\n",
       "    </tr>\n",
       "    <tr>\n",
       "      <th id=\"T_0b607_level0_row5\" class=\"row_heading level0 row5\" >5</th>\n",
       "      <td id=\"T_0b607_row5_col0\" class=\"data row5 col0\" >0.0000</td>\n",
       "      <td id=\"T_0b607_row5_col1\" class=\"data row5 col1\" >0.0000</td>\n",
       "      <td id=\"T_0b607_row5_col2\" class=\"data row5 col2\" >0.0000</td>\n",
       "      <td id=\"T_0b607_row5_col3\" class=\"data row5 col3\" >1.0000</td>\n",
       "      <td id=\"T_0b607_row5_col4\" class=\"data row5 col4\" >0.0000</td>\n",
       "      <td id=\"T_0b607_row5_col5\" class=\"data row5 col5\" >0.0000</td>\n",
       "    </tr>\n",
       "    <tr>\n",
       "      <th id=\"T_0b607_level0_row6\" class=\"row_heading level0 row6\" >6</th>\n",
       "      <td id=\"T_0b607_row6_col0\" class=\"data row6 col0\" >0.0000</td>\n",
       "      <td id=\"T_0b607_row6_col1\" class=\"data row6 col1\" >0.0000</td>\n",
       "      <td id=\"T_0b607_row6_col2\" class=\"data row6 col2\" >0.0000</td>\n",
       "      <td id=\"T_0b607_row6_col3\" class=\"data row6 col3\" >1.0000</td>\n",
       "      <td id=\"T_0b607_row6_col4\" class=\"data row6 col4\" >0.0000</td>\n",
       "      <td id=\"T_0b607_row6_col5\" class=\"data row6 col5\" >0.0000</td>\n",
       "    </tr>\n",
       "    <tr>\n",
       "      <th id=\"T_0b607_level0_row7\" class=\"row_heading level0 row7\" >7</th>\n",
       "      <td id=\"T_0b607_row7_col0\" class=\"data row7 col0\" >0.0000</td>\n",
       "      <td id=\"T_0b607_row7_col1\" class=\"data row7 col1\" >0.0000</td>\n",
       "      <td id=\"T_0b607_row7_col2\" class=\"data row7 col2\" >0.0000</td>\n",
       "      <td id=\"T_0b607_row7_col3\" class=\"data row7 col3\" >1.0000</td>\n",
       "      <td id=\"T_0b607_row7_col4\" class=\"data row7 col4\" >0.0000</td>\n",
       "      <td id=\"T_0b607_row7_col5\" class=\"data row7 col5\" >0.0000</td>\n",
       "    </tr>\n",
       "    <tr>\n",
       "      <th id=\"T_0b607_level0_row8\" class=\"row_heading level0 row8\" >8</th>\n",
       "      <td id=\"T_0b607_row8_col0\" class=\"data row8 col0\" >0.0000</td>\n",
       "      <td id=\"T_0b607_row8_col1\" class=\"data row8 col1\" >0.0000</td>\n",
       "      <td id=\"T_0b607_row8_col2\" class=\"data row8 col2\" >0.0000</td>\n",
       "      <td id=\"T_0b607_row8_col3\" class=\"data row8 col3\" >1.0000</td>\n",
       "      <td id=\"T_0b607_row8_col4\" class=\"data row8 col4\" >0.0000</td>\n",
       "      <td id=\"T_0b607_row8_col5\" class=\"data row8 col5\" >0.0000</td>\n",
       "    </tr>\n",
       "    <tr>\n",
       "      <th id=\"T_0b607_level0_row9\" class=\"row_heading level0 row9\" >9</th>\n",
       "      <td id=\"T_0b607_row9_col0\" class=\"data row9 col0\" >0.0000</td>\n",
       "      <td id=\"T_0b607_row9_col1\" class=\"data row9 col1\" >0.0000</td>\n",
       "      <td id=\"T_0b607_row9_col2\" class=\"data row9 col2\" >0.0000</td>\n",
       "      <td id=\"T_0b607_row9_col3\" class=\"data row9 col3\" >1.0000</td>\n",
       "      <td id=\"T_0b607_row9_col4\" class=\"data row9 col4\" >0.0000</td>\n",
       "      <td id=\"T_0b607_row9_col5\" class=\"data row9 col5\" >0.0000</td>\n",
       "    </tr>\n",
       "    <tr>\n",
       "      <th id=\"T_0b607_level0_row10\" class=\"row_heading level0 row10\" >Mean</th>\n",
       "      <td id=\"T_0b607_row10_col0\" class=\"data row10 col0\" >0.0000</td>\n",
       "      <td id=\"T_0b607_row10_col1\" class=\"data row10 col1\" >0.0000</td>\n",
       "      <td id=\"T_0b607_row10_col2\" class=\"data row10 col2\" >0.0000</td>\n",
       "      <td id=\"T_0b607_row10_col3\" class=\"data row10 col3\" >1.0000</td>\n",
       "      <td id=\"T_0b607_row10_col4\" class=\"data row10 col4\" >0.0000</td>\n",
       "      <td id=\"T_0b607_row10_col5\" class=\"data row10 col5\" >0.0000</td>\n",
       "    </tr>\n",
       "    <tr>\n",
       "      <th id=\"T_0b607_level0_row11\" class=\"row_heading level0 row11\" >Std</th>\n",
       "      <td id=\"T_0b607_row11_col0\" class=\"data row11 col0\" >0.0000</td>\n",
       "      <td id=\"T_0b607_row11_col1\" class=\"data row11 col1\" >0.0000</td>\n",
       "      <td id=\"T_0b607_row11_col2\" class=\"data row11 col2\" >0.0000</td>\n",
       "      <td id=\"T_0b607_row11_col3\" class=\"data row11 col3\" >0.0000</td>\n",
       "      <td id=\"T_0b607_row11_col4\" class=\"data row11 col4\" >0.0000</td>\n",
       "      <td id=\"T_0b607_row11_col5\" class=\"data row11 col5\" >0.0000</td>\n",
       "    </tr>\n",
       "  </tbody>\n",
       "</table>\n"
      ],
      "text/plain": [
       "<pandas.io.formats.style.Styler at 0x20055c05910>"
      ]
     },
     "metadata": {},
     "output_type": "display_data"
    },
    {
     "data": {
      "application/vnd.jupyter.widget-view+json": {
       "model_id": "",
       "version_major": 2,
       "version_minor": 0
      },
      "text/plain": [
       "Processing:   0%|          | 0/4 [00:00<?, ?it/s]"
      ]
     },
     "metadata": {},
     "output_type": "display_data"
    }
   ],
   "source": [
    "lr = create_model('lr')"
   ]
  },
  {
   "cell_type": "code",
   "execution_count": 8,
   "id": "9d7741a2",
   "metadata": {},
   "outputs": [
    {
     "data": {
      "text/html": [],
      "text/plain": [
       "<IPython.core.display.HTML object>"
      ]
     },
     "metadata": {},
     "output_type": "display_data"
    },
    {
     "data": {
      "text/html": [
       "<div>\n",
       "<style scoped>\n",
       "    .dataframe tbody tr th:only-of-type {\n",
       "        vertical-align: middle;\n",
       "    }\n",
       "\n",
       "    .dataframe tbody tr th {\n",
       "        vertical-align: top;\n",
       "    }\n",
       "\n",
       "    .dataframe thead th {\n",
       "        text-align: right;\n",
       "    }\n",
       "</style>\n",
       "<table border=\"1\" class=\"dataframe\">\n",
       "  <thead>\n",
       "    <tr style=\"text-align: right;\">\n",
       "      <th></th>\n",
       "      <th>Parameters</th>\n",
       "    </tr>\n",
       "  </thead>\n",
       "  <tbody>\n",
       "    <tr>\n",
       "      <th>copy_X</th>\n",
       "      <td>True</td>\n",
       "    </tr>\n",
       "    <tr>\n",
       "      <th>fit_intercept</th>\n",
       "      <td>True</td>\n",
       "    </tr>\n",
       "    <tr>\n",
       "      <th>n_jobs</th>\n",
       "      <td>-1</td>\n",
       "    </tr>\n",
       "    <tr>\n",
       "      <th>normalize</th>\n",
       "      <td>deprecated</td>\n",
       "    </tr>\n",
       "    <tr>\n",
       "      <th>positive</th>\n",
       "      <td>False</td>\n",
       "    </tr>\n",
       "  </tbody>\n",
       "</table>\n",
       "</div>"
      ],
      "text/plain": [
       "               Parameters\n",
       "copy_X               True\n",
       "fit_intercept        True\n",
       "n_jobs                 -1\n",
       "normalize      deprecated\n",
       "positive            False"
      ]
     },
     "metadata": {},
     "output_type": "display_data"
    }
   ],
   "source": [
    "plot_model(lr, plot='parameter')"
   ]
  },
  {
   "cell_type": "code",
   "execution_count": 10,
   "id": "38dd2bae",
   "metadata": {},
   "outputs": [
    {
     "data": {
      "text/html": [],
      "text/plain": [
       "<IPython.core.display.HTML object>"
      ]
     },
     "metadata": {},
     "output_type": "display_data"
    },
    {
     "data": {
      "image/png": "[encoded data removed]",
      "text/plain": [
       "<Figure size 432x288 with 2 Axes>"
      ]
     },
     "metadata": {
      "needs_background": "light"
     },
     "output_type": "display_data"
    }
   ],
   "source": [
    "plot_model(lr, plot='residuals')"
   ]
  },
  {
   "cell_type": "code",
   "execution_count": 11,
   "id": "6c208982",
   "metadata": {},
   "outputs": [
    {
     "data": {
      "text/html": [],
      "text/plain": [
       "<IPython.core.display.HTML object>"
      ]
     },
     "metadata": {},
     "output_type": "display_data"
    },
    {
     "data": {
      "image/png": "[encoded data removed]",
      "text/plain": [
       "<Figure size 432x288 with 1 Axes>"
      ]
     },
     "metadata": {
      "needs_background": "light"
     },
     "output_type": "display_data"
    }
   ],
   "source": [
    "plot_model(lr, plot='error')"
   ]
  },
  {
   "cell_type": "code",
   "execution_count": 12,
   "id": "c94e22ed",
   "metadata": {},
   "outputs": [
    {
     "data": {
      "text/html": [],
      "text/plain": [
       "<IPython.core.display.HTML object>"
      ]
     },
     "metadata": {},
     "output_type": "display_data"
    },
    {
     "data": {
      "image/png": "[encoded data removed]",
      "text/plain": [
       "<Figure size 432x288 with 1 Axes>"
      ]
     },
     "metadata": {
      "needs_background": "light"
     },
     "output_type": "display_data"
    }
   ],
   "source": [
    "plot_model(lr, plot='cooks')"
   ]
  },
  {
   "cell_type": "code",
   "execution_count": 13,
   "id": "74a40273",
   "metadata": {},
   "outputs": [
    {
     "data": {
      "text/html": [],
      "text/plain": [
       "<IPython.core.display.HTML object>"
      ]
     },
     "metadata": {},
     "output_type": "display_data"
    },
    {
     "data": {
      "image/png": "[encoded data removed]",
      "text/plain": [
       "<Figure size 432x288 with 1 Axes>"
      ]
     },
     "metadata": {
      "needs_background": "light"
     },
     "output_type": "display_data"
    }
   ],
   "source": [
    "plot_model(lr, plot='rfe')"
   ]
  },
  {
   "cell_type": "code",
   "execution_count": 14,
   "id": "540fc032",
   "metadata": {},
   "outputs": [
    {
     "data": {
      "text/html": [],
      "text/plain": [
       "<IPython.core.display.HTML object>"
      ]
     },
     "metadata": {},
     "output_type": "display_data"
    },
    {
     "data": {
      "image/png": "[encoded data removed]",
      "text/plain": [
       "<Figure size 800x500 with 1 Axes>"
      ]
     },
     "metadata": {
      "needs_background": "light"
     },
     "output_type": "display_data"
    }
   ],
   "source": [
    "plot_model(lr, plot='feature')"
   ]
  }
 ],
 "metadata": {
  "kernelspec": {
   "display_name": "Python 3",
   "language": "python",
   "name": "python3"
  },
  "language_info": {
   "codemirror_mode": {
    "name": "ipython",
    "version": 3
   },
   "file_extension": ".py",
   "mimetype": "text/x-python",
   "name": "python",
   "nbconvert_exporter": "python",
   "pygments_lexer": "ipython3",
   "version": "3.9.12"
  }
 },
 "nbformat": 4,
 "nbformat_minor": 5
}
