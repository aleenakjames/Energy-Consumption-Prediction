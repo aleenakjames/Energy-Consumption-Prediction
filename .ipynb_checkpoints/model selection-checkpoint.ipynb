{
 "cells": [
  {
   "cell_type": "code",
   "execution_count": 2,
   "id": "79dfcffc",
   "metadata": {},
   "outputs": [],
   "source": [
    "import numpy as np\n",
    "import pandas as pd\n",
    "\n",
    "RS = 0\n"
   ]
  },
  {
   "cell_type": "code",
   "execution_count": 3,
   "id": "1f4ec4b5",
   "metadata": {},
   "outputs": [
    {
     "name": "stderr",
     "output_type": "stream",
     "text": [
      "C:\\Users\\Aleena\\AppData\\Local\\Temp\\ipykernel_15704\\717488990.py:1: DtypeWarning: Columns (0,27) have mixed types. Specify dtype option on import or set low_memory=False.\n",
      "  df = pd.read_csv(\"HomeC.csv\")\n"
     ]
    }
   ],
   "source": [
    "df = pd.read_csv(\"HomeC.csv\")\n",
    "df = df.drop(df.columns[23], axis=1)\n",
    "df = df.dropna()\n",
    "numeric_cols = df.select_dtypes(include=['int', 'float']).columns\n",
    "df = df.drop(columns=df.columns.difference(numeric_cols))\n"
   ]
  },
  {
   "cell_type": "code",
   "execution_count": 3,
   "id": "e255455a",
   "metadata": {},
   "outputs": [],
   "source": [
    "from sklearn.model_selection import ShuffleSplit, train_test_split\n",
    "from sklearn.metrics import mean_squared_log_error as msle, mean_squared_error as mse, mean_absolute_error as mae\n"
   ]
  },
  {
   "cell_type": "code",
   "execution_count": 5,
   "id": "e90531c8",
   "metadata": {},
   "outputs": [
    {
     "name": "stdout",
     "output_type": "stream",
     "text": [
      "Train shape: (431922, 28)\n",
      "Validation shape: (35994, 28)\n",
      "Test shape: (35994, 28)\n"
     ]
    }
   ],
   "source": [
    "train, test = train_test_split(df, test_size=1/14, random_state=RS)\n",
    "train, valid = train_test_split(train, test_size=1/13, random_state=RS)\n",
    "\n",
    "print('Train shape:', train.shape)\n",
    "print('Validation shape:', valid.shape)\n",
    "print('Test shape:', test.shape)\n"
   ]
  },
  {
   "cell_type": "code",
   "execution_count": 6,
   "id": "f0fb9ec1",
   "metadata": {},
   "outputs": [
    {
     "data": {
      "text/plain": [
       "use [kW]               0\n",
       "gen [kW]               0\n",
       "House overall [kW]     0\n",
       "Dishwasher [kW]        0\n",
       "Furnace 1 [kW]         0\n",
       "Furnace 2 [kW]         0\n",
       "Home office [kW]       0\n",
       "Fridge [kW]            0\n",
       "Wine cellar [kW]       0\n",
       "Garage door [kW]       0\n",
       "Kitchen 12 [kW]        0\n",
       "Kitchen 14 [kW]        0\n",
       "Kitchen 38 [kW]        0\n",
       "Barn [kW]              0\n",
       "Well [kW]              0\n",
       "Microwave [kW]         0\n",
       "Living room [kW]       0\n",
       "Solar [kW]             0\n",
       "temperature            0\n",
       "humidity               0\n",
       "visibility             0\n",
       "apparentTemperature    0\n",
       "pressure               0\n",
       "windSpeed              0\n",
       "windBearing            0\n",
       "precipIntensity        0\n",
       "dewPoint               0\n",
       "precipProbability      0\n",
       "dtype: int64"
      ]
     },
     "execution_count": 6,
     "metadata": {},
     "output_type": "execute_result"
    }
   ],
   "source": [
    "train.isna().sum()\n"
   ]
  },
  {
   "cell_type": "code",
   "execution_count": 9,
   "id": "4456dfc1",
   "metadata": {},
   "outputs": [
    {
     "ename": "NameError",
     "evalue": "name 'temp' is not defined",
     "output_type": "error",
     "traceback": [
      "\u001b[1;31m---------------------------------------------------------------------------\u001b[0m",
      "\u001b[1;31mNameError\u001b[0m                                 Traceback (most recent call last)",
      "Input \u001b[1;32mIn [9]\u001b[0m, in \u001b[0;36m<cell line: 2>\u001b[1;34m()\u001b[0m\n\u001b[0;32m      1\u001b[0m bl_score \u001b[38;5;241m=\u001b[39m {}\n\u001b[1;32m----> 2\u001b[0m bl_score[\u001b[38;5;124m'\u001b[39m\u001b[38;5;124mMAE\u001b[39m\u001b[38;5;124m'\u001b[39m] \u001b[38;5;241m=\u001b[39m mae(\u001b[43mtemp\u001b[49m[\u001b[38;5;124m'\u001b[39m\u001b[38;5;124mprice_x\u001b[39m\u001b[38;5;124m'\u001b[39m], temp[\u001b[38;5;124m'\u001b[39m\u001b[38;5;124mprice_y\u001b[39m\u001b[38;5;124m'\u001b[39m])\n\u001b[0;32m      3\u001b[0m bl_score[\u001b[38;5;124m'\u001b[39m\u001b[38;5;124mRMSE\u001b[39m\u001b[38;5;124m'\u001b[39m] \u001b[38;5;241m=\u001b[39m mse(temp[\u001b[38;5;124m'\u001b[39m\u001b[38;5;124mprice_x\u001b[39m\u001b[38;5;124m'\u001b[39m], temp[\u001b[38;5;124m'\u001b[39m\u001b[38;5;124mprice_y\u001b[39m\u001b[38;5;124m'\u001b[39m], squared\u001b[38;5;241m=\u001b[39m\u001b[38;5;28;01mFalse\u001b[39;00m)\n\u001b[0;32m      4\u001b[0m bl_score[\u001b[38;5;124m'\u001b[39m\u001b[38;5;124mRMSLE\u001b[39m\u001b[38;5;124m'\u001b[39m] \u001b[38;5;241m=\u001b[39m np\u001b[38;5;241m.\u001b[39msqrt(msle(temp[\u001b[38;5;124m'\u001b[39m\u001b[38;5;124mprice_x\u001b[39m\u001b[38;5;124m'\u001b[39m], temp[\u001b[38;5;124m'\u001b[39m\u001b[38;5;124mprice_y\u001b[39m\u001b[38;5;124m'\u001b[39m]))\n",
      "\u001b[1;31mNameError\u001b[0m: name 'temp' is not defined"
     ]
    }
   ],
   "source": [
    "bl_score = {}\n",
    "bl_score['MAE'] = mae(temp['price_x'], temp['price_y'])\n",
    "bl_score['RMSE'] = mse(temp['price_x'], temp['price_y'], squared=False)\n",
    "bl_score['RMSLE'] = np.sqrt(msle(temp['price_x'], temp['price_y']))\n",
    "result = pd.DataFrame(bl_score, index=['baseline'])\n",
    "result\n"
   ]
  },
  {
   "cell_type": "code",
   "execution_count": null,
   "id": "948682ee",
   "metadata": {},
   "outputs": [],
   "source": []
  }
 ],
 "metadata": {
  "kernelspec": {
   "display_name": "Python 3",
   "language": "python",
   "name": "python3"
  },
  "language_info": {
   "codemirror_mode": {
    "name": "ipython",
    "version": 3
   },
   "file_extension": ".py",
   "mimetype": "text/x-python",
   "name": "python",
   "nbconvert_exporter": "python",
   "pygments_lexer": "ipython3",
   "version": "3.9.12"
  }
 },
 "nbformat": 4,
 "nbformat_minor": 5
}
