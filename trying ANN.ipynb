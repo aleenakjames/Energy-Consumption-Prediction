{
 "cells": [
  {
   "cell_type": "code",
   "execution_count": 8,
   "id": "1abb38b2",
   "metadata": {},
   "outputs": [
    {
     "name": "stderr",
     "output_type": "stream",
     "text": [
      "C:\\Users\\Aleena\\AppData\\Local\\Temp\\ipykernel_6116\\1513348727.py:9: DtypeWarning: Columns (0,27) have mixed types. Specify dtype option on import or set low_memory=False.\n",
      "  data = pd.read_csv('HomeC.csv')\n"
     ]
    },
    {
     "name": "stdout",
     "output_type": "stream",
     "text": [
      "Epoch 1/3\n",
      "37/37 [==============================] - 1s 3ms/step - loss: 0.8826\n",
      "Epoch 2/3\n",
      "37/37 [==============================] - 0s 2ms/step - loss: 0.4357\n",
      "Epoch 3/3\n",
      "37/37 [==============================] - 0s 2ms/step - loss: 0.2441\n",
      "10/10 [==============================] - 0s 2ms/step\n",
      "Root Mean Squared Error (RMSE): 0.377034581560782\n"
     ]
    }
   ],
   "source": [
    "import numpy as np\n",
    "import pandas as pd\n",
    "import tensorflow as tf\n",
    "from sklearn.model_selection import train_test_split\n",
    "from sklearn.preprocessing import MinMaxScaler\n",
    "from sklearn.metrics import mean_squared_error\n",
    "\n",
    "# Load the dataset\n",
    "data = pd.read_csv('HomeC.csv')\n",
    "# data['time'] = data['time'].astype(float)\n",
    "data = data.drop(data.columns[23], axis=1)\n",
    "data = data.dropna()\n",
    "numeric_cols = data.select_dtypes(include=['int', 'float']).columns\n",
    "data = data.drop(columns=data.columns.difference(numeric_cols))\n",
    "data = data.head(1450)\n",
    "\n",
    "# Extract features and target variable\n",
    "X = data.drop('use [kW]', axis=1).values\n",
    "y = data['use [kW]'].values\n",
    "\n",
    "# Split the dataset into training and testing sets\n",
    "X_train, X_test, y_train, y_test = train_test_split(X, y, test_size=0.2, random_state=42)\n",
    "\n",
    "# Scale the features using MinMaxScaler\n",
    "scaler = MinMaxScaler()\n",
    "X_train_scaled = scaler.fit_transform(X_train)\n",
    "X_test_scaled = scaler.transform(X_test)\n",
    "\n",
    "# Define the architecture of the ANN model\n",
    "model = tf.keras.Sequential([\n",
    "    tf.keras.layers.Dense(64, activation='relu', input_shape=(X_train.shape[1],)),\n",
    "    tf.keras.layers.Dense(32, activation='relu'),\n",
    "    tf.keras.layers.Dense(1)\n",
    "])\n",
    "\n",
    "# Compile the model\n",
    "model.compile(optimizer='adam', loss='mean_squared_error')\n",
    "\n",
    "# Train the model\n",
    "model.fit(X_train_scaled, y_train, epochs=3, batch_size=32, verbose=1)\n",
    "\n",
    "# Evaluate the model\n",
    "y_pred = model.predict(X_test_scaled)\n",
    "mse = mean_squared_error(y_test, y_pred)\n",
    "rmse = np.sqrt(mse)\n",
    "print(f\"Root Mean Squared Error (RMSE): {rmse}\")\n"
   ]
  },
  {
   "cell_type": "code",
   "execution_count": 9,
   "id": "b5292797",
   "metadata": {},
   "outputs": [
    {
     "name": "stdout",
     "output_type": "stream",
     "text": [
      "Accuracy: 0.7866126330416777\n"
     ]
    }
   ],
   "source": [
    "from sklearn.metrics import r2_score\n",
    "r2 = r2_score(y_test, y_pred)\n",
    "print(f\"Accuracy: {r2}\")"
   ]
  },
  {
   "cell_type": "code",
   "execution_count": null,
   "id": "62aac108",
   "metadata": {},
   "outputs": [],
   "source": []
  }
 ],
 "metadata": {
  "kernelspec": {
   "display_name": "Python 3",
   "language": "python",
   "name": "python3"
  },
  "language_info": {
   "codemirror_mode": {
    "name": "ipython",
    "version": 3
   },
   "file_extension": ".py",
   "mimetype": "text/x-python",
   "name": "python",
   "nbconvert_exporter": "python",
   "pygments_lexer": "ipython3",
   "version": "3.9.12"
  }
 },
 "nbformat": 4,
 "nbformat_minor": 5
}
